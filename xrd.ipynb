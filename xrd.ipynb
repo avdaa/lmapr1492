{
 "cells": [
  {
   "cell_type": "code",
   "execution_count": 280,
   "metadata": {},
   "outputs": [],
   "source": [
    "from pymatgen.ext.matproj import MPRester\n",
    "from pymatgen.io.cif import CifParser\n",
    "import numpy as np\n",
    "with MPRester(\"rIpdpPuIE9I2anRpcTZ4\") as m:\n",
    "    \n",
    "    lx = 1.54060\n",
    "    \n",
    "    structure = m.get_structure_by_material_id(\"mp-675902\")\n",
    "    \n",
    "    rstar = structure.lattice.reciprocal_lattice.matrix\n",
    "\n",
    "    Y = np.array([0.0000, 0.0000, 0.4872])\n",
    "    Cu = np.array([0.6667, 0.3333, 0.8750])\n",
    "    Se1 = np.array([0.3333, 0.6667, 0.7618])\n",
    "    Se2 = np.array([0.6667, 0.3333, 0.2500])\n",
    "\n",
    "    i = complex(0,1)\n",
    "    pi = np.pi\n",
    "    pics = np.array(3 * [3 * [0]])\n",
    "    theta2 = np.array(3 * [0.0])\n",
    "    error = 0.5\n",
    "    \n",
    "    for h in range(0, 3):\n",
    "        for k in range(0, 3):\n",
    "            for l in range(0, 3):\n",
    "                for n in range(0, 3):\n",
    "                    if pics[n].any() == False or np.sqrt(sum(np.dot(pics[n], rstar)**2)) > (np.sqrt(sum(np.dot(np.array([h, k, l]), rstar)**2)) + error):\n",
    "                        pics[n] = [h, k, l]\n",
    "                        break\n",
    "                if np.sqrt(sum(np.dot(pics[0], rstar)**2)) < np.sqrt(sum(np.dot(pics[1], rstar)**2)):\n",
    "                    pics = np.array([pics[1], pics[0], pics[2]])\n",
    "                if np.sqrt(sum(np.dot(pics[1], rstar)**2)) < np.sqrt(sum(np.dot(pics[2], rstar)**2)):\n",
    "                    pics = np.array([pics[0], pics[2], pics[1]])\n",
    "                if np.sqrt(sum(np.dot(pics[0], rstar)**2)) < np.sqrt(sum(np.dot(pics[1], rstar)**2)):\n",
    "                    pics = np.array([pics[1], pics[0], pics[2]])\n",
    "    for n in range(0, 3):\n",
    "        theta2[n] = 2 * np.arcsin(lx * np.sqrt(sum(np.dot(pics[n], rstar)**2)) / (4 * pi)) * 180 / pi"
   ]
  },
  {
   "cell_type": "code",
   "execution_count": 281,
   "metadata": {},
   "outputs": [
    {
     "data": {
      "text/plain": [
       "array([[0, 0, 2],\n",
       "       [0, 1, 0],\n",
       "       [0, 0, 1]])"
      ]
     },
     "execution_count": 281,
     "metadata": {},
     "output_type": "execute_result"
    }
   ],
   "source": [
    "pics"
   ]
  },
  {
   "cell_type": "code",
   "execution_count": 282,
   "metadata": {},
   "outputs": [
    {
     "data": {
      "text/plain": [
       "array([27.53858611, 24.98068813, 13.66953418])"
      ]
     },
     "execution_count": 282,
     "metadata": {},
     "output_type": "execute_result"
    }
   ],
   "source": [
    "theta2"
   ]
  },
  {
   "cell_type": "code",
   "execution_count": null,
   "metadata": {},
   "outputs": [],
   "source": []
  }
 ],
 "metadata": {
  "kernelspec": {
   "display_name": "Python 3",
   "language": "python",
   "name": "python3"
  },
  "language_info": {
   "codemirror_mode": {
    "name": "ipython",
    "version": 3
   },
   "file_extension": ".py",
   "mimetype": "text/x-python",
   "name": "python",
   "nbconvert_exporter": "python",
   "pygments_lexer": "ipython3",
   "version": "3.6.8"
  }
 },
 "nbformat": 4,
 "nbformat_minor": 2
}

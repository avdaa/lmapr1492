{
 "cells": [
  {
   "cell_type": "code",
   "execution_count": 2,
   "metadata": {
    "scrolled": true
   },
   "outputs": [
    {
     "name": "stdout",
     "output_type": "stream",
     "text": [
      "Les trois premiers pics du diffractogramme ([h k l]) :\n",
      "[1 0 0] , [1 1 0] , [2 1 1] \n",
      "\n",
      "Angles associés aux trois premiers pics (2θ) :\n",
      "[28.24853505 32.73254435 46.96793304]\n"
     ]
    }
   ],
   "source": [
    "from pymatgen.ext.matproj import MPRester\n",
    "from pymatgen.io.cif import CifParser\n",
    "import numpy as np\n",
    "with MPRester(\"rIpdpPuIE9I2anRpcTZ4\") as m:\n",
    "    \n",
    "    structure = m.get_structure_by_material_id(\"mp-20194\")\n",
    "    \n",
    "    rstar = structure.lattice.reciprocal_lattice.matrix\n",
    "    \n",
    "    lx = 1.54060\n",
    "    \n",
    "    pi = np.pi\n",
    "    pics = np.array(3 * [3 * [0]])\n",
    "    theta2 = np.array(3 * [0.0])\n",
    "    error = 0.001\n",
    "    \n",
    "    for l in range(0, 3):\n",
    "        for k in range(0, 3):\n",
    "            for h in range(0, 3):\n",
    "                pnull = False\n",
    "                pval = True\n",
    "                for n in range(0, 3):\n",
    "                    # Teste si un des emplacements de pics est nul\n",
    "                    if pics[n].any() == False:\n",
    "                        pnull = True\n",
    "                    # Teste si la valeur de theta pour ces [h k l] est deja presente\n",
    "                    if abs(np.sqrt(sum(np.dot(pics[n], rstar)**2)) - np.sqrt(sum(np.dot(np.array([h, k, l]), rstar)**2))) < error:\n",
    "                        pval = False\n",
    "                if pval:\n",
    "                    if pnull:\n",
    "                        pics[0] = [h, k, l]\n",
    "                    elif np.sqrt(sum(np.dot(pics[2], rstar)**2)) > np.sqrt(sum(np.dot(np.array([h, k, l]), rstar)**2)):\n",
    "                        pics[2] = [h, k, l]\n",
    "                    if np.sqrt(sum(np.dot(pics[0], rstar)**2)) > np.sqrt(sum(np.dot(pics[1], rstar)**2)):\n",
    "                        pics = np.array([pics[1], pics[0], pics[2]])\n",
    "                    if np.sqrt(sum(np.dot(pics[1], rstar)**2)) > np.sqrt(sum(np.dot(pics[2], rstar)**2)):\n",
    "                        pics = np.array([pics[0], pics[2], pics[1]])\n",
    "                    if np.sqrt(sum(np.dot(pics[0], rstar)**2)) > np.sqrt(sum(np.dot(pics[1], rstar)**2)):\n",
    "                        pics = np.array([pics[1], pics[0], pics[2]])\n",
    "                        \n",
    "    for n in range(0, 3):\n",
    "        theta2[n] = 2 * np.arcsin(lx * np.sqrt(sum(np.dot(pics[n], rstar)**2)) / (4 * pi)) * 180 / pi\n",
    "    print('Les trois premiers pics du diffractogramme ([h k l]) :')\n",
    "    print(pics[0], ',', pics[1], ',', pics[2], '\\n')\n",
    "    print('Angles associés aux trois premiers pics (2\\u03B8) :')\n",
    "    print(theta2)\n",
    "    "
   ]
  },
  {
   "cell_type": "code",
   "execution_count": null,
   "metadata": {},
   "outputs": [],
   "source": []
  }
 ],
 "metadata": {
  "kernelspec": {
   "display_name": "Python 3",
   "language": "python",
   "name": "python3"
  },
  "language_info": {
   "codemirror_mode": {
    "name": "ipython",
    "version": 3
   },
   "file_extension": ".py",
   "mimetype": "text/x-python",
   "name": "python",
   "nbconvert_exporter": "python",
   "pygments_lexer": "ipython3",
   "version": "3.6.8"
  }
 },
 "nbformat": 4,
 "nbformat_minor": 2
}

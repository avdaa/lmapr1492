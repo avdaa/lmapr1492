{
 "cells": [
  {
   "cell_type": "code",
   "execution_count": 1,
   "metadata": {},
   "outputs": [
    {
     "data": {
      "text/plain": [
       "array([4.11266012, 0.        , 0.        ])"
      ]
     },
     "execution_count": 1,
     "metadata": {},
     "output_type": "execute_result"
    }
   ],
   "source": [
    "from pymatgen.ext.matproj import MPRester\n",
    "\n",
    "with MPRester(\"rIpdpPuIE9I2anRpcTZ4\") as m:\n",
    "\n",
    "    # Structure for material id\n",
    "    structure = m.get_structure_by_material_id(\"mp-675902\")\n",
    "    doc = m.get_doc(\"mp-675902\")\n",
    "    \n",
    "    A = structure.lattice.matrix[0]\n",
    "    B = structure.lattice.matrix[1]\n",
    "    C = structure.lattice.matrix[2]\n",
    "\n",
    "    Astar = structure.lattice.reciprocal_lattice.matrix[0]\n",
    "    Bstar = structure.lattice.reciprocal_lattice.matrix[1]\n",
    "    Cstar = structure.lattice.reciprocal_lattice.matrix[2]\n",
    "\n",
    "    spacegroup = m.get_task_data(\"mp-675902\",\"spacegroup\")"
   ]
  },
  {
   "cell_type": "code",
   "execution_count": null,
   "metadata": {},
   "outputs": [],
   "source": []
  }
 ],
 "metadata": {
  "kernelspec": {
   "display_name": "Python 3",
   "language": "python",
   "name": "python3"
  },
  "language_info": {
   "codemirror_mode": {
    "name": "ipython",
    "version": 3
   },
   "file_extension": ".py",
   "mimetype": "text/x-python",
   "name": "python",
   "nbconvert_exporter": "python",
   "pygments_lexer": "ipython3",
   "version": "3.6.8"
  }
 },
 "nbformat": 4,
 "nbformat_minor": 2
}

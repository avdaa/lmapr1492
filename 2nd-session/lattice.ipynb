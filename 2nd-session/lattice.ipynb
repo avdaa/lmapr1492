{
 "cells": [
  {
   "cell_type": "code",
   "execution_count": 1,
   "metadata": {},
   "outputs": [
    {
     "name": "stdout",
     "output_type": "stream",
     "text": [
      "Vecteurs de bases du réseau direct :\n",
      "[0.       2.733725 2.733725] [2.733725 0.       2.733725] [2.733725 2.733725 0.      ] \n",
      "\n",
      "Vecteurs de bases du réseau réciproque :\n",
      "[-1.14919849  1.14919849  1.14919849] [ 1.14919849 -1.14919849  1.14919849] [ 1.14919849  1.14919849 -1.14919849] \n",
      "\n",
      "Type de maille :\n",
      "cubic \n",
      "\n",
      "Système cristallin :\n",
      "cubic \n",
      "\n",
      "Groupe ponctuel :\n",
      "m-3m\n"
     ]
    }
   ],
   "source": [
    "from pymatgen.ext.matproj import MPRester\n",
    "from pymatgen.symmetry.analyzer import SpacegroupAnalyzer\n",
    "with MPRester(\"rIpdpPuIE9I2anRpcTZ4\") as m:\n",
    "\n",
    "    # Structure for material id\n",
    "    structure = m.get_structure_by_material_id(\"mp-20194\")\n",
    "    \n",
    "    # Vecteurs de bases du réseau direct\n",
    "    lattice = structure.lattice.matrix\n",
    "    \n",
    "    # Vecteurs de bases du réseau réciproque\n",
    "    rlattice = structure.lattice.reciprocal_lattice.matrix\n",
    "\n",
    "    spacegroup = SpacegroupAnalyzer(structure)\n",
    "    \n",
    "    # Type de maille\n",
    "    lattice_type = spacegroup.get_lattice_type()\n",
    "    \n",
    "    # Système cristallin\n",
    "    crystal_system = spacegroup.get_crystal_system()\n",
    "    \n",
    "    #Groupe ponctuel\n",
    "    point_group = spacegroup.get_point_group_symbol()\n",
    "    \n",
    "    print('Vecteurs de bases du réseau direct :')\n",
    "    print(lattice[0], lattice[1], lattice[2], '\\n')\n",
    "    \n",
    "    print('Vecteurs de bases du réseau réciproque :')\n",
    "    print(rlattice[0], rlattice[1], rlattice[2], '\\n')\n",
    "    \n",
    "    print('Type de maille :')\n",
    "    print(lattice_type, '\\n')\n",
    "    \n",
    "    print('Système cristallin :')\n",
    "    print(crystal_system, '\\n')\n",
    "    \n",
    "    print('Groupe ponctuel :')\n",
    "    print(point_group)"
   ]
  },
  {
   "cell_type": "code",
   "execution_count": null,
   "metadata": {},
   "outputs": [],
   "source": []
  }
 ],
 "metadata": {
  "kernelspec": {
   "display_name": "Python 3",
   "language": "python",
   "name": "python3"
  },
  "language_info": {
   "codemirror_mode": {
    "name": "ipython",
    "version": 3
   },
   "file_extension": ".py",
   "mimetype": "text/x-python",
   "name": "python",
   "nbconvert_exporter": "python",
   "pygments_lexer": "ipython3",
   "version": "3.6.8"
  }
 },
 "nbformat": 4,
 "nbformat_minor": 2
}

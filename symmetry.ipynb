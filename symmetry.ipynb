{
 "cells": [
  {
   "cell_type": "code",
   "execution_count": 66,
   "metadata": {},
   "outputs": [],
   "source": [
    "from pymatgen.ext.matproj import MPRester\n",
    "from pymatgen.io.cif import CifParser\n",
    "import numpy as np\n",
    "with MPRester(\"rIpdpPuIE9I2anRpcTZ4\") as m:\n",
    "\n",
    "    S1 = np.array([[0, -1, 0],\n",
    "                   [-1, 0, 0],\n",
    "                   [0, 0, 1]])\n",
    "    S2 = np.array([[-1, 1, 0],\n",
    "                   [0, 1, 0],\n",
    "                   [0, 0, 1]])\n",
    "    S3 = np.array([[1, 0, 0],\n",
    "                   [1, -1, 0],\n",
    "                   [0, 0, 1]])\n",
    "    Y0 = np.array([0, 1, 0.487227])\n",
    "    Cu1 = np.array([2/3, 1/3, 0.874968])\n",
    "    Se2 = np.array([1/3, 2/3, 0.761760])\n",
    "    \n",
    "    sym1 = np.dot(S1, Cu1)\n",
    "    sym2 = np.dot(S2, Se2)\n",
    "    sym3 = np.dot(S3, Y0)"
   ]
  },
  {
   "cell_type": "code",
   "execution_count": null,
   "metadata": {},
   "outputs": [],
   "source": []
  }
 ],
 "metadata": {
  "kernelspec": {
   "display_name": "Python 3",
   "language": "python",
   "name": "python3"
  },
  "language_info": {
   "codemirror_mode": {
    "name": "ipython",
    "version": 3
   },
   "file_extension": ".py",
   "mimetype": "text/x-python",
   "name": "python",
   "nbconvert_exporter": "python",
   "pygments_lexer": "ipython3",
   "version": "3.6.8"
  }
 },
 "nbformat": 4,
 "nbformat_minor": 2
}
